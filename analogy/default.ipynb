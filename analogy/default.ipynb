{
 "cells": [
  {
   "cell_type": "markdown",
   "metadata": {},
   "source": [
    "# analogy: default program"
   ]
  },
  {
   "cell_type": "code",
   "execution_count": 15,
   "metadata": {},
   "outputs": [],
   "source": [
    "from default import *\n",
    "import os"
   ]
  },
  {
   "cell_type": "markdown",
   "metadata": {},
   "source": [
    "## Run the default solution on dev"
   ]
  },
  {
   "cell_type": "code",
   "execution_count": 2,
   "metadata": {},
   "outputs": [
    {
     "name": "stdout",
     "output_type": "stream",
     "text": [
      "Requirement already satisfied: gensim in /Users/anoop/git-repos/teaching/nlp-class/venv/lib/python3.12/site-packages (4.3.3)\n",
      "Requirement already satisfied: numpy<2.0,>=1.18.5 in /Users/anoop/git-repos/teaching/nlp-class/venv/lib/python3.12/site-packages (from gensim) (1.26.4)\n",
      "Requirement already satisfied: scipy<1.14.0,>=1.7.0 in /Users/anoop/git-repos/teaching/nlp-class/venv/lib/python3.12/site-packages (from gensim) (1.13.1)\n",
      "Requirement already satisfied: smart-open>=1.8.1 in /Users/anoop/git-repos/teaching/nlp-class/venv/lib/python3.12/site-packages (from gensim) (7.0.4)\n",
      "Requirement already satisfied: wrapt in /Users/anoop/git-repos/teaching/nlp-class/venv/lib/python3.12/site-packages (from smart-open>=1.8.1->gensim) (1.16.0)\n"
     ]
    }
   ],
   "source": [
    "!pip install gensim"
   ]
  },
  {
   "cell_type": "code",
   "execution_count": 16,
   "metadata": {},
   "outputs": [],
   "source": [
    "import gensim.downloader as api\n",
    "from gensim.models import KeyedVectors"
   ]
  },
  {
   "cell_type": "markdown",
   "metadata": {},
   "source": [
    "Download the glove 100d model trained on the gigaword corpus."
   ]
  },
  {
   "cell_type": "code",
   "execution_count": 9,
   "metadata": {},
   "outputs": [],
   "source": [
    "model_gigaword = api.load(\"glove-wiki-gigaword-100\")"
   ]
  },
  {
   "cell_type": "markdown",
   "metadata": {},
   "source": [
    "Get the output on the word analogy task by reading the dev set and using vector arithmetic over the word vectors for the first 10 lines in the dev set."
   ]
  },
  {
   "cell_type": "code",
   "execution_count": 22,
   "metadata": {},
   "outputs": [
    {
     "name": "stdout",
     "output_type": "stream",
     "text": [
      "athens-greece+iraq=baghdad\n",
      "athens-greece+thailand=bangkok\n",
      "athens-greece+china=beijing\n",
      "athens-greece+germany=berlin\n",
      "athens-greece+switzerland=zurich\n",
      "athens-greece+egypt=cairo\n",
      "athens-greece+australia=sydney\n",
      "athens-greece+vietnam=hanoi\n",
      "athens-greece+cuba=havana\n",
      "athens-greece+finland=helsinki\n",
      "[': capital-common-countries', 'baghdad', 'bangkok', 'beijing', 'berlin', 'zurich', 'cairo', 'sydney', 'hanoi', 'havana', 'helsinki']\n"
     ]
    }
   ],
   "source": [
    "output = []\n",
    "with open(os.path.join('data', 'input', 'dev.txt')) as fh:\n",
    "    for i, line in enumerate(fh):\n",
    "        if i > 10:\n",
    "            break\n",
    "        line = line.strip()\n",
    "        if line[0] == ':':\n",
    "            output.append(line)\n",
    "            continue\n",
    "        (a, b, c) = line.split()\n",
    "        results = model_gigaword.most_similar(positive=[a.lower(), c.lower()], negative=[b.lower()])\n",
    "        print(f\"{a.lower()}-{b.lower()}+{c.lower()}={results[0][0]}\")\n",
    "        output.append(results[0][0])\n",
    "\n",
    "print(output)"
   ]
  },
  {
   "cell_type": "markdown",
   "metadata": {},
   "source": [
    "## Evaluate the default output"
   ]
  },
  {
   "cell_type": "code",
   "execution_count": 23,
   "metadata": {},
   "outputs": [
    {
     "name": "stdout",
     "output_type": "stream",
     "text": [
      "Score=80.00\n"
     ]
    }
   ],
   "source": [
    "from analogy_check import precision\n",
    "with open(os.path.join('data','reference','dev.out'), 'rt') as refh:\n",
    "    ref_data = [str(x).strip() for x in refh.read().splitlines()]\n",
    "print(\"Score={:.2f}\".format(100*precision(ref_data, output)))"
   ]
  },
  {
   "cell_type": "markdown",
   "metadata": {},
   "source": [
    "## Documentation\n",
    "\n",
    "Write some beautiful documentation of your program here."
   ]
  },
  {
   "cell_type": "markdown",
   "metadata": {},
   "source": [
    "## Analysis\n",
    "\n",
    "Do some analysis of the results. What ideas did you try? What worked and what did not?"
   ]
  }
 ],
 "metadata": {
  "kernelspec": {
   "display_name": "Python 3 (ipykernel)",
   "language": "python",
   "name": "python3"
  },
  "language_info": {
   "codemirror_mode": {
    "name": "ipython",
    "version": 3
   },
   "file_extension": ".py",
   "mimetype": "text/x-python",
   "name": "python",
   "nbconvert_exporter": "python",
   "pygments_lexer": "ipython3",
   "version": "3.12.5"
  }
 },
 "nbformat": 4,
 "nbformat_minor": 4
}
